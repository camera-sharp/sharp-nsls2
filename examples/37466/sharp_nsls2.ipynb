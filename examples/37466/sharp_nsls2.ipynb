{
 "cells": [
  {
   "cell_type": "code",
   "execution_count": 1,
   "metadata": {
    "collapsed": true
   },
   "outputs": [],
   "source": [
    "from datetime import timedelta, datetime, tzinfo\n",
    "import numpy as np\n",
    "import matplotlib.pyplot as plt\n",
    "import h5py\n",
    "import argparse\n",
    "import sharp\n",
    "import sharpnsls2\n",
    "# make graphics inline\n",
    "%matplotlib inline\n",
    "# %matplotlib notebook"
   ]
  },
  {
   "cell_type": "markdown",
   "metadata": {},
   "source": [
    "# Input parameters"
   ]
  },
  {
   "cell_type": "code",
   "execution_count": 2,
   "metadata": {
    "collapsed": true
   },
   "outputs": [],
   "source": [
    "fname = '../data/scan_37466.h5' # HXN input file\n",
    "ccd_pixel_um = 55 # detector pixel size (um)\n",
    "\n",
    "niters = 1 # number of iterations\n",
    "start_ave = 0.8  ## average starting iteration\n",
    "\n",
    "alpha = 1.e-8\n",
    "beta  = 0.9 # reconstruction feedback parameters\n",
    "\n",
    "amp_max = 1.00  # up limit of allowed object amplitude range\n",
    "amp_min = 0.95  # low limit of allowed object amplitude range\n",
    "pha_max = 0.01  # up limit of allowed object phase range\n",
    "pha_min = -0.1  # low limit of allowed object amplitude range"
   ]
  },
  {
   "cell_type": "markdown",
   "metadata": {},
   "source": [
    "# Reading a HXN input file"
   ]
  },
  {
   "cell_type": "code",
   "execution_count": 3,
   "metadata": {
    "collapsed": false
   },
   "outputs": [
    {
     "name": "stdout",
     "output_type": "stream",
     "text": [
      "reading a HXN input file ...\n",
      "processing time:  0:00:03.925877\n",
      "128 128 40000 (2, 40000) 0.5 0.10333333333333333 1.99 1.99 0.01 0.01\n"
     ]
    }
   ],
   "source": [
    "print(\"reading a HXN input file ...\");\n",
    "t1 = datetime.now();\n",
    "\n",
    "f = h5py.File(fname, \"r\")\n",
    "\n",
    "diffamp = np.array(f['diffamp'])   # frames      \n",
    "\n",
    "# scan data\n",
    "scan_points = np.array(f['points'])     \n",
    "x_range = np.asscalar(np.array(f['x_range']))\n",
    "y_range = np.asscalar(np.array(f['y_range']))\n",
    "dr_x = np.asscalar(np.array(f['dr_x']))\n",
    "dr_y = np.asscalar(np.array(f['dr_y']))\n",
    "\n",
    "z_m = np.asscalar(np.array(f['z_m'])) # detector-to-sample distance (m)\n",
    "lambda_nm = np.asscalar(np.array(f['lambda_nm'])) # wavelength (nm)\n",
    "\n",
    "f.close()\n",
    "\n",
    "t2 = datetime.now();\n",
    "print (\"processing time: \", (t2 - t1))\n",
    "\n",
    "nz, nx, ny = np.shape(diffamp)\n",
    "print(nx,ny,nz, scan_points.shape, z_m, lambda_nm, x_range, y_range, dr_x, dr_y)"
   ]
  },
  {
   "cell_type": "markdown",
   "metadata": {},
   "source": [
    "# Select a subset with  20 K frames"
   ]
  },
  {
   "cell_type": "code",
   "execution_count": 4,
   "metadata": {
    "collapsed": false
   },
   "outputs": [
    {
     "name": "stdout",
     "output_type": "stream",
     "text": [
      "128 128 20000 (2, 20000)\n"
     ]
    }
   ],
   "source": [
    "# frames\n",
    "diffamp = diffamp[0::2]\n",
    "nz, nx, ny = np.shape(diffamp)\n",
    "\n",
    "# scan\n",
    "points  = scan_points[0:2, 0::2]\n",
    "\n",
    "print(nx,ny,nz, points.shape)"
   ]
  },
  {
   "cell_type": "markdown",
   "metadata": {},
   "source": [
    "# Set the input parameters"
   ]
  },
  {
   "cell_type": "code",
   "execution_count": 5,
   "metadata": {
    "collapsed": false
   },
   "outputs": [],
   "source": [
    "sharpNSLS2 = sharpnsls2.PySharpNSLS2()\n",
    "\n",
    "sharpNSLS2.setZ(z_m)\n",
    "sharpNSLS2.setLambda(lambda_nm)\n",
    "sharpNSLS2.setPixelSize(ccd_pixel_um)"
   ]
  },
  {
   "cell_type": "markdown",
   "metadata": {},
   "source": [
    "# Load frames"
   ]
  },
  {
   "cell_type": "code",
   "execution_count": 6,
   "metadata": {
    "collapsed": false
   },
   "outputs": [
    {
     "name": "stdout",
     "output_type": "stream",
     "text": [
      "(128, 128) float64 0\n"
     ]
    }
   ],
   "source": [
    "frames = []\n",
    "emptyFrames = []\n",
    "\n",
    "for i in range(0, nz):\n",
    "    amp2 = diffamp[i]**2\n",
    "    if np.sum(amp2) > 0.:\n",
    "        frames.append(np.fft.fftshift(amp2))\n",
    "    else :\n",
    "        emptyFrames.append(i)\n",
    "\n",
    "# plt.imshow(frames[0])\n",
    "print(frames[0].shape, frames[0][0].dtype, len(emptyFrames))\n",
    "\n",
    "sharpNSLS2.setFrames(np.array(frames).astype(np.float32))"
   ]
  },
  {
   "cell_type": "markdown",
   "metadata": {},
   "source": [
    "# Load an initial probe"
   ]
  },
  {
   "cell_type": "code",
   "execution_count": 7,
   "metadata": {
    "collapsed": false
   },
   "outputs": [
    {
     "name": "stdout",
     "output_type": "stream",
     "text": [
      "(128, 128) complex128 (2376.67739367+0j) 0j\n"
     ]
    }
   ],
   "source": [
    "# generate from frames\n",
    "s = diffamp[0,:,:]\n",
    "init_prb = np.fft.fftshift(np.fft.fftn(s)) / np.sqrt(np.size(s))\n",
    "\n",
    "# check with recon\n",
    "recon_init_prb = np.load(\"../recon/init_prb.npy\")\n",
    "prb_diff = init_prb - recon_init_prb\n",
    "\n",
    "print(init_prb.shape, init_prb[0].dtype, np.max(init_prb), np.max(prb_diff))\n",
    "\n",
    "# load\n",
    "sharpNSLS2.setInitProbe(np.asarray(init_prb).astype(np.complex64))"
   ]
  },
  {
   "cell_type": "markdown",
   "metadata": {},
   "source": [
    "# Load the scan points"
   ]
  },
  {
   "cell_type": "code",
   "execution_count": 8,
   "metadata": {
    "collapsed": false
   },
   "outputs": [
    {
     "name": "stdout",
     "output_type": "stream",
     "text": [
      "real pixel size [um]: 0.007339015151515151\n"
     ]
    }
   ],
   "source": [
    "# scan direction and geometry correction handling\n",
    "# recon-oriented operations\n",
    "\n",
    "det_side = nx\n",
    "real_pixel_size_um = 1.e6*z_m*lambda_nm*1e-3/(det_side*ccd_pixel_um)\n",
    "\n",
    "print('real pixel size [um]:', real_pixel_size_um)\n",
    "\n",
    "recon_points = -1*points\n",
    "recon_points[0,:] *=-1 * np.abs(np.cos(15.*np.pi/180.))\n",
    "\n",
    "xs = np.round(recon_points[0]/real_pixel_size_um) \n",
    "ys = np.round(recon_points[1]/real_pixel_size_um) \n",
    "\n",
    "xs -= min(xs)\n",
    "ys -= min(ys)\n",
    "\n",
    "xmax = max(xs)\n",
    "ymax = max(ys)\n",
    "\n",
    "xs = xs*real_pixel_size_um \n",
    "ys = ys*real_pixel_size_um \n",
    "\n",
    "real_translation = np.column_stack((ys, xs, np.zeros(ys.size)))\n",
    "real_translation = real_translation * 1.0e-6 # recon_points in um\n",
    "\n",
    "sharpNSLS2.setScan(real_translation.astype(np.float64))"
   ]
  },
  {
   "cell_type": "markdown",
   "metadata": {},
   "source": [
    "# Load an initial object"
   ]
  },
  {
   "cell_type": "code",
   "execution_count": 9,
   "metadata": {
    "collapsed": false
   },
   "outputs": [
    {
     "name": "stdout",
     "output_type": "stream",
     "text": [
      "sharp-nsls2 obj: 389 399 (389, 399)\n",
      "recon obj: 420 430 (420, 430)\n"
     ]
    }
   ],
   "source": [
    "nx_obj = int(det_side + xmax)\n",
    "ny_obj = int(det_side + ymax)\n",
    "\n",
    "init_obj = np.random.uniform(0, 1.0, (nx_obj, ny_obj)) * np.exp(np.random.uniform(0, np.pi, (nx_obj, ny_obj))*1.j)\n",
    "\n",
    "print('sharp-nsls2 obj:', nx_obj, ny_obj, init_obj.shape)\n",
    "\n",
    "# recon input object\n",
    "\n",
    "init_obj = np.load(\"../recon/init_obj.npy\")\n",
    "\n",
    "recon_nx_obj = nx_obj + 30\n",
    "recon_ny_obj = ny_obj + 30\n",
    "\n",
    "recon_nx_obj = np.int(recon_nx_obj + np.mod(recon_nx_obj, 2))\n",
    "recon_ny_obj = np.int(recon_ny_obj + np.mod(recon_ny_obj, 2))\n",
    "\n",
    "print('recon obj:', recon_nx_obj, recon_ny_obj, init_obj.shape)\n",
    "\n",
    "init_obj = init_obj[15:nx_obj+15, 15:ny_obj+15]\n",
    "\n",
    "sharpNSLS2.setInitObject(init_obj.astype(np.complex64))"
   ]
  },
  {
   "cell_type": "markdown",
   "metadata": {},
   "source": [
    "# Set the SHARP-NSLS2 parameters"
   ]
  },
  {
   "cell_type": "code",
   "execution_count": 10,
   "metadata": {
    "collapsed": false
   },
   "outputs": [],
   "source": [
    "sharpNSLS2.setStartUpdateObject(0)\n",
    "sharpNSLS2.setStartUpdateProbe(2)\n",
    "\n",
    "sharpNSLS2.setAmpMax(amp_max)\n",
    "sharpNSLS2.setAmpMin(amp_min)\n",
    "sharpNSLS2.setPhaMax(pha_max)\n",
    "sharpNSLS2.setPhaMin(pha_min)\n",
    "\n",
    "sharpNSLS2.setAlpha(alpha)\n",
    "sharpNSLS2.setBeta(beta)\n",
    "\n",
    "sharpNSLS2.setChunks(1)"
   ]
  },
  {
   "cell_type": "markdown",
   "metadata": {},
   "source": [
    "# Initialize the SHARP-NSLS2 containers"
   ]
  },
  {
   "cell_type": "code",
   "execution_count": 11,
   "metadata": {
    "collapsed": false
   },
   "outputs": [
    {
     "data": {
      "text/plain": [
       "0"
      ]
     },
     "execution_count": 11,
     "metadata": {},
     "output_type": "execute_result"
    }
   ],
   "source": [
    "sharpNSLS2.init()"
   ]
  }
 ],
 "metadata": {
  "anaconda-cloud": {},
  "kernelspec": {
   "display_name": "Python [default]",
   "language": "python",
   "name": "python3"
  },
  "language_info": {
   "codemirror_mode": {
    "name": "ipython",
    "version": 3
   },
   "file_extension": ".py",
   "mimetype": "text/x-python",
   "name": "python",
   "nbconvert_exporter": "python",
   "pygments_lexer": "ipython3",
   "version": "3.5.2"
  }
 },
 "nbformat": 4,
 "nbformat_minor": 1
}
